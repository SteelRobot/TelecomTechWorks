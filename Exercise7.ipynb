{
 "cells": [
  {
   "cell_type": "markdown",
   "id": "328d34dc-f9ce-4f9a-8f21-1b7a80aadc77",
   "metadata": {},
   "source": [
    "# Седьмая лабораторная работа\n",
    "Андрей Алексеевич, группа 20201"
   ]
  },
  {
   "cell_type": "code",
   "execution_count": 4,
   "id": "ae90ec39-d14e-4752-b5ab-6a4124dff095",
   "metadata": {},
   "outputs": [],
   "source": [
    "import thinkdsp as td\n",
    "import numpy as np\n",
    "import matplotlib.pyplot as plt"
   ]
  },
  {
   "cell_type": "markdown",
   "id": "eea556fb-a806-4e93-9fde-ac5622ce5f66",
   "metadata": {},
   "source": [
    "## Задание 1.\n",
    "Реализовать свой алгоритм БПФ."
   ]
  },
  {
   "cell_type": "markdown",
   "id": "270de8c9-63d6-4e5a-adb5-65a735215973",
   "metadata": {},
   "source": [
    "Функция NumPy."
   ]
  },
  {
   "cell_type": "code",
   "execution_count": 100,
   "id": "3e326a16-01c6-4fec-a0e9-30b9d9528127",
   "metadata": {},
   "outputs": [
    {
     "name": "stdout",
     "output_type": "stream",
     "text": [
      "[ 2.6       +0.j          0.10502525-0.28786797j -0.3       +0.5j\n",
      "  1.09497475+0.71213203j -3.6       +0.j          1.09497475-0.71213203j\n",
      " -0.3       -0.5j         0.10502525+0.28786797j]\n"
     ]
    }
   ],
   "source": [
    "ys = [0.1, 0.4, 0.2, 1.0, -0.5, 0.9, -0.3, 0.8]\n",
    "hs = np.fft.fft(ys)\n",
    "print(hs)"
   ]
  },
  {
   "cell_type": "markdown",
   "id": "85b19127-89cb-4a7a-82dc-5fe0a176d9bd",
   "metadata": {},
   "source": [
    "Метод ДПФ из `chap07.ipynb`"
   ]
  },
  {
   "cell_type": "code",
   "execution_count": 110,
   "id": "b4fec816-999a-46a1-9f7a-779de5b7267f",
   "metadata": {},
   "outputs": [],
   "source": [
    "def synthesis_matrix(N):\n",
    "    ts = np.arange(N) / N\n",
    "    freqs = np.arange(N)\n",
    "    args = np.outer(ts, freqs)\n",
    "    M = np.exp(1j * td.PI2 * args)\n",
    "    return M\n",
    "def dft(ys):\n",
    "    N = len(ys)\n",
    "    M = synthesis_matrix(N)\n",
    "    amps = M.conj().transpose().dot(ys)\n",
    "    return amps"
   ]
  },
  {
   "cell_type": "code",
   "execution_count": 111,
   "id": "15b2d806-7187-4aeb-ba5c-3fd3b6b714e6",
   "metadata": {},
   "outputs": [
    {
     "name": "stdout",
     "output_type": "stream",
     "text": [
      "[ 2.6       +0.00000000e+00j  0.10502525-2.87867966e-01j\n",
      " -0.3       +5.00000000e-01j  1.09497475+7.12132034e-01j\n",
      " -3.6       -2.06965309e-15j  1.09497475-7.12132034e-01j\n",
      " -0.3       -5.00000000e-01j  0.10502525+2.87867966e-01j]\n"
     ]
    }
   ],
   "source": [
    "hs1 = dft(ys)\n",
    "print(hs1)"
   ]
  },
  {
   "cell_type": "markdown",
   "id": "67505728-33e1-4ca5-80ee-f070e34ad875",
   "metadata": {},
   "source": [
    "Нерекурсивная версия БПФ. Используются также функция NumPy."
   ]
  },
  {
   "cell_type": "code",
   "execution_count": 112,
   "id": "d37ebf57-ac9f-4ea9-a71f-11633f5e9799",
   "metadata": {},
   "outputs": [],
   "source": [
    "def fft_without_recursion(ys):\n",
    "    N = len(ys)\n",
    "    He = np.fft.fft(ys[::2])\n",
    "    Ho = np.fft.fft(ys[1::2])\n",
    "    ns = np.arange(N)\n",
    "    W = np.exp(-1j * td.PI2 * ns / N)\n",
    "    \n",
    "    return np.tile(He, 2) + W * np.tile(Ho, 2)"
   ]
  },
  {
   "cell_type": "code",
   "execution_count": 113,
   "id": "81e807f1-7a78-4b29-acfb-1566cb0c3841",
   "metadata": {},
   "outputs": [
    {
     "name": "stdout",
     "output_type": "stream",
     "text": [
      "[ 2.6       +0.00000000e+00j  0.10502525-2.87867966e-01j\n",
      " -0.3       +5.00000000e-01j  1.09497475+7.12132034e-01j\n",
      " -3.6       -3.79640508e-16j  1.09497475-7.12132034e-01j\n",
      " -0.3       -5.00000000e-01j  0.10502525+2.87867966e-01j]\n"
     ]
    }
   ],
   "source": [
    "hs2 = fft_without_recursion(ys)\n",
    "print(hs2)"
   ]
  },
  {
   "cell_type": "markdown",
   "id": "596f56a6-2e46-4fa2-92ef-aa6173f5e828",
   "metadata": {},
   "source": [
    "Финальная версия БПФ, с рекурсией, без вызова функции NumPy."
   ]
  },
  {
   "cell_type": "code",
   "execution_count": 118,
   "id": "d34e35be-5026-4eff-9a8b-775f7fdfa97c",
   "metadata": {},
   "outputs": [],
   "source": [
    "def fft_recursion(ys):\n",
    "    N = len(ys)\n",
    "    if N == 1:\n",
    "        return ys\n",
    "    He = fft_recursion(ys[::2])\n",
    "    Ho = fft_recursion(ys[1::2])\n",
    "    ns = np.arange(N)\n",
    "    W = np.exp(-1j * td.PI2 * ns / N)\n",
    "    \n",
    "    return np.tile(He, 2) + W * np.tile(Ho, 2)"
   ]
  },
  {
   "cell_type": "code",
   "execution_count": 119,
   "id": "0544f867-79f9-4dce-b914-2d5938aa818d",
   "metadata": {},
   "outputs": [
    {
     "name": "stdout",
     "output_type": "stream",
     "text": [
      "[ 2.6       +0.00000000e+00j  0.10502525-2.87867966e-01j\n",
      " -0.3       +5.00000000e-01j  1.09497475+7.12132034e-01j\n",
      " -3.6       -3.79640508e-16j  1.09497475-7.12132034e-01j\n",
      " -0.3       -5.00000000e-01j  0.10502525+2.87867966e-01j]\n"
     ]
    }
   ],
   "source": [
    "hs3 = fft_with_recursion(ys)\n",
    "print(hs3)"
   ]
  },
  {
   "cell_type": "markdown",
   "id": "fd477940-92f5-44e4-81bc-f25f89559054",
   "metadata": {},
   "source": [
    "Убедимся, что значения совпадают:"
   ]
  },
  {
   "cell_type": "code",
   "execution_count": 120,
   "id": "0f7e6e48-facf-478b-ac8a-c36508dff15b",
   "metadata": {},
   "outputs": [
    {
     "name": "stdout",
     "output_type": "stream",
     "text": [
      "1e-10\n",
      "hs1 совпадает с hs; |hs1 - hs| = 1.1546e-14\n",
      "hs2 совпадает с hs; |hs2 - hs| = 7.0318e-16\n",
      "hs3 совпадает с hs; |hs3 - hs| = 1.9016e-15\n"
     ]
    }
   ],
   "source": [
    "abs1 = np.sum(np.abs(hs1-hs))\n",
    "abs2 = np.sum(np.abs(hs2-hs))\n",
    "abs3 = np.sum(np.abs(hs3-hs))\n",
    "e = pow(10, -10)\n",
    "print(e)\n",
    "if abs1 < e:\n",
    "    print(\"hs1 совпадает с hs; |hs1 - hs| = {:.5g}\".format(abs1))\n",
    "if abs2 < e:\n",
    "    print(\"hs2 совпадает с hs; |hs2 - hs| = {:.5g}\".format(abs2))\n",
    "if abs3 < e:\n",
    "    print(\"hs3 совпадает с hs; |hs3 - hs| = {:.5g}\".format(abs3))"
   ]
  }
 ],
 "metadata": {
  "kernelspec": {
   "display_name": "Python 3 (ipykernel)",
   "language": "python",
   "name": "python3"
  },
  "language_info": {
   "codemirror_mode": {
    "name": "ipython",
    "version": 3
   },
   "file_extension": ".py",
   "mimetype": "text/x-python",
   "name": "python",
   "nbconvert_exporter": "python",
   "pygments_lexer": "ipython3",
   "version": "3.12.7"
  }
 },
 "nbformat": 4,
 "nbformat_minor": 5
}
