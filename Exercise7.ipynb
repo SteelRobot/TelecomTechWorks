{
 "cells": [
  {
   "cell_type": "markdown",
   "id": "328d34dc-f9ce-4f9a-8f21-1b7a80aadc77",
   "metadata": {},
   "source": [
    "# Седьмая лабораторная работа"
   ]
  },
  {
   "cell_type": "code",
   "execution_count": 1,
   "id": "ae90ec39-d14e-4752-b5ab-6a4124dff095",
   "metadata": {},
   "outputs": [],
   "source": [
    "import thinkdsp as td\n",
    "import numpy as np\n",
    "import matplotlib.pyplot as plt"
   ]
  },
  {
   "cell_type": "markdown",
   "id": "eea556fb-a806-4e93-9fde-ac5622ce5f66",
   "metadata": {},
   "source": [
    "## Задание 1."
   ]
  },
  {
   "cell_type": "markdown",
   "id": "528a3140-9d72-44cd-a30a-5e5922b28317",
   "metadata": {},
   "source": [
    "## Задание 2."
   ]
  },
  {
   "cell_type": "markdown",
   "id": "e25f0e1b-fefe-44c8-b2c1-e4512c4de4e0",
   "metadata": {},
   "source": [
    "## Задание 3."
   ]
  }
 ],
 "metadata": {
  "kernelspec": {
   "display_name": "Python 3 (ipykernel)",
   "language": "python",
   "name": "python3"
  },
  "language_info": {
   "codemirror_mode": {
    "name": "ipython",
    "version": 3
   },
   "file_extension": ".py",
   "mimetype": "text/x-python",
   "name": "python",
   "nbconvert_exporter": "python",
   "pygments_lexer": "ipython3",
   "version": "3.12.7"
  }
 },
 "nbformat": 4,
 "nbformat_minor": 5
}
